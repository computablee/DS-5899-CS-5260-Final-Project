{
  "nbformat": 4,
  "nbformat_minor": 0,
  "metadata": {
    "colab": {
      "provenance": [],
      "authorship_tag": "ABX9TyOMW/JludlaFPleJVpZ3tfw",
      "include_colab_link": true
    },
    "kernelspec": {
      "name": "python3",
      "display_name": "Python 3"
    },
    "language_info": {
      "name": "python"
    },
    "accelerator": "GPU",
    "gpuClass": "standard"
  },
  "cells": [
    {
      "cell_type": "markdown",
      "metadata": {
        "id": "view-in-github",
        "colab_type": "text"
      },
      "source": [
        "<a href=\"https://colab.research.google.com/github/computablee/DS-5899-CS-5260-Final-Project/blob/main/CNN.ipynb\" target=\"_parent\"><img src=\"https://colab.research.google.com/assets/colab-badge.svg\" alt=\"Open In Colab\"/></a>"
      ]
    },
    {
      "cell_type": "code",
      "execution_count": null,
      "metadata": {
        "id": "k36kKiokcA_R"
      },
      "outputs": [],
      "source": [
        "import numpy as np\n",
        "import numpy.random as R\n",
        "import matplotlib.pyplot as plt\n",
        "from tensorflow.keras.datasets import mnist\n",
        "from tensorflow.keras import models, layers\n",
        "from tensorflow.keras.utils import to_categorical\n",
        "\n",
        "(train_images, train_labels), (test_images, test_labels) = mnist.load_data()"
      ]
    },
    {
      "cell_type": "code",
      "source": [
        "train_images = train_images.astype('float32') / 255\n",
        "test_images = test_images.astype('float32') / 255\n",
        "\n",
        "sz = train_images.shape[1]\n",
        "nclassout = 10\n",
        "\n",
        "train_labels_onehot = to_categorical(train_labels)\n",
        "test_labels_onehot = to_categorical(test_labels)"
      ],
      "metadata": {
        "id": "OOFkjGdQc_ML"
      },
      "execution_count": null,
      "outputs": []
    },
    {
      "cell_type": "code",
      "source": [
        "def relu_bn(inputs):\n",
        "    relu = layers.ReLU()(inputs)\n",
        "    bn = layers.BatchNormalization()(relu)\n",
        "    return bn"
      ],
      "metadata": {
        "id": "kJICqGKauwB-"
      },
      "execution_count": null,
      "outputs": []
    },
    {
      "cell_type": "code",
      "source": [
        "def residual_block(x, downsample, filters, kernel_size = 3):\n",
        "    y = layers.Conv2D(kernel_size=kernel_size,\n",
        "               strides=(1 if not downsample else 2),\n",
        "               filters=filters,\n",
        "               padding=\"same\")(x)\n",
        "    y = relu_bn(y)\n",
        "    y = layers.Conv2D(kernel_size=kernel_size,\n",
        "               strides=1,\n",
        "               filters=filters,\n",
        "               padding=\"same\")(y)\n",
        "\n",
        "    if downsample:\n",
        "        x = layers.Conv2D(kernel_size=1,\n",
        "                   strides=2,\n",
        "                   filters=filters,\n",
        "                   padding=\"same\")(x)\n",
        "\n",
        "    out = layers.Add()([x, y])\n",
        "    out = relu_bn(out)\n",
        "    return out"
      ],
      "metadata": {
        "id": "a4mwLXRYu--D"
      },
      "execution_count": null,
      "outputs": []
    },
    {
      "cell_type": "code",
      "source": [
        "def create_res_net():\n",
        "    inputs = layers.Input(shape=(sz, sz, 1))\n",
        "    num_filters = 128\n",
        "    \n",
        "    t = layers.BatchNormalization()(inputs)\n",
        "    t = layers.Conv2D(kernel_size=3,\n",
        "               strides=1,\n",
        "               filters=num_filters,\n",
        "               padding=\"same\")(t)\n",
        "    t = relu_bn(t)\n",
        "    \n",
        "    num_blocks_list = [4, 3, 2, 1]\n",
        "    for i in range(len(num_blocks_list)):\n",
        "        num_blocks = num_blocks_list[i]\n",
        "        for j in range(num_blocks):\n",
        "            t = residual_block(t, downsample=(j==0 and i!=0), filters=num_filters)\n",
        "        num_filters *= 2\n",
        "    \n",
        "    t = layers.AveragePooling2D(4)(t)\n",
        "    t = layers.Flatten()(t)\n",
        "    outputs = layers.Dense(10, activation='softmax')(t)\n",
        "    \n",
        "    model = models.Model(inputs, outputs)\n",
        "\n",
        "    model.compile(\n",
        "        optimizer='adam',\n",
        "        loss='categorical_crossentropy',\n",
        "        metrics=['accuracy']\n",
        "    )\n",
        "\n",
        "    return model\n",
        "\n",
        "convnet = create_res_net()\n",
        "convepochs = 15"
      ],
      "metadata": {
        "id": "xLw6ZcX5vMrT"
      },
      "execution_count": null,
      "outputs": []
    },
    {
      "cell_type": "code",
      "source": [
        "history = convnet.fit(train_images, train_labels_onehot, verbose=True, validation_split=.1, epochs=convepochs, batch_size=128)"
      ],
      "metadata": {
        "colab": {
          "base_uri": "https://localhost:8080/"
        },
        "id": "TyMCew5TfdjJ",
        "outputId": "653b4fc2-b8e0-4365-ee11-e105e71a7a4d"
      },
      "execution_count": null,
      "outputs": [
        {
          "output_type": "stream",
          "name": "stdout",
          "text": [
            "Epoch 1/15\n",
            "422/422 [==============================] - 34s 44ms/step - loss: 0.1314 - accuracy: 0.9631 - val_loss: 1.5572 - val_accuracy: 0.6667\n",
            "Epoch 2/15\n",
            "422/422 [==============================] - 18s 43ms/step - loss: 0.0420 - accuracy: 0.9868 - val_loss: 0.1185 - val_accuracy: 0.9703\n",
            "Epoch 3/15\n",
            "422/422 [==============================] - 18s 43ms/step - loss: 0.0311 - accuracy: 0.9905 - val_loss: 0.0483 - val_accuracy: 0.9878\n",
            "Epoch 4/15\n",
            "422/422 [==============================] - 18s 43ms/step - loss: 0.0289 - accuracy: 0.9912 - val_loss: 0.0354 - val_accuracy: 0.9895\n",
            "Epoch 5/15\n",
            "422/422 [==============================] - 18s 43ms/step - loss: 0.0261 - accuracy: 0.9917 - val_loss: 0.0770 - val_accuracy: 0.9830\n",
            "Epoch 6/15\n",
            "422/422 [==============================] - 18s 43ms/step - loss: 0.0206 - accuracy: 0.9933 - val_loss: 0.0388 - val_accuracy: 0.9913\n",
            "Epoch 7/15\n",
            "281/422 [==================>...........] - ETA: 5s - loss: 0.0223 - accuracy: 0.9933"
          ]
        }
      ]
    },
    {
      "cell_type": "code",
      "source": [
        "def plot_loss(epochs, loss, val_loss):\n",
        "    ep_titles = list(range(1, epochs + 1))\n",
        "    ep_ticks = list(range(1, epochs + 1))\n",
        "    \n",
        "    plt.plot(ep_titles, loss, label=\"loss\")\n",
        "    plt.plot(ep_titles, val_loss, label=\"val_loss\")\n",
        "    plt.legend()\n",
        "    plt.xlabel(\"Epoch\")\n",
        "    plt.ylabel(\"Loss\")\n",
        "    plt.suptitle(\"Loss as a Function of Epoch\")\n",
        "    plt.xticks(ep_ticks)\n",
        "    plt.show()\n",
        "    "
      ],
      "metadata": {
        "id": "08j3r2qyi-g2"
      },
      "execution_count": null,
      "outputs": []
    },
    {
      "cell_type": "code",
      "source": [
        "plot_loss(convepochs, history.history['loss'], history.history['val_loss'])\n",
        "\n",
        "evaluation = convnet.evaluate(test_images, test_labels_onehot)\n",
        "print(\"Accuracy: \", str(evaluation[1]))\n"
      ],
      "metadata": {
        "colab": {
          "base_uri": "https://localhost:8080/",
          "height": 343
        },
        "id": "wLXVySbYi44A",
        "outputId": "09c55fce-3e0d-4e78-a54b-e30544bccbae"
      },
      "execution_count": null,
      "outputs": [
        {
          "output_type": "display_data",
          "data": {
            "text/plain": [
              "<Figure size 432x288 with 1 Axes>"
            ],
            "image/png": "[encoded data removed]"
          },
          "metadata": {
            "needs_background": "light"
          }
        },
        {
          "output_type": "stream",
          "name": "stdout",
          "text": [
            "313/313 [==============================] - 2s 7ms/step - loss: 0.1029 - accuracy: 0.9723\n",
            "Accuracy:  0.9722999930381775\n"
          ]
        }
      ]
    },
    {
      "cell_type": "code",
      "source": [
        "convnet.save('./mnist_convnet.hdf5')"
      ],
      "metadata": {
        "id": "FhWSNJ11kOrz"
      },
      "execution_count": null,
      "outputs": []
    },
    {
      "cell_type": "code",
      "source": [
        "from keras.utils.layer_utils import count_params\n",
        "\n",
        "trainable_count = count_params(convnet.trainable_weights)\n",
        "non_trainable_count = count_params(convnet.non_trainable_weights)\n",
        "\n",
        "print('Total params: {:,}'.format(trainable_count + non_trainable_count))\n",
        "print('Trainable params: {:,}'.format(trainable_count))\n",
        "print('Non-trainable params: {:,}'.format(non_trainable_count))"
      ],
      "metadata": {
        "colab": {
          "base_uri": "https://localhost:8080/"
        },
        "id": "9-SJuY3H23dS",
        "outputId": "032d1416-9649-4e9b-c5f2-72a4d8de1915"
      },
      "execution_count": null,
      "outputs": [
        {
          "output_type": "stream",
          "name": "stdout",
          "text": [
            "Total params: 27,572,238\n",
            "Trainable params: 27,558,668\n",
            "Non-trainable params: 13,570\n"
          ]
        }
      ]
    }
  ]
}