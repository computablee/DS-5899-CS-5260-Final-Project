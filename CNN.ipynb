{
  "nbformat": 4,
  "nbformat_minor": 0,
  "metadata": {
    "colab": {
      "provenance": [],
      "authorship_tag": "ABX9TyNyUTorTXspFc3DjiuPlzya",
      "include_colab_link": true
    },
    "kernelspec": {
      "name": "python3",
      "display_name": "Python 3"
    },
    "language_info": {
      "name": "python"
    },
    "accelerator": "GPU",
    "gpuClass": "premium"
  },
  "cells": [
    {
      "cell_type": "markdown",
      "metadata": {
        "id": "view-in-github",
        "colab_type": "text"
      },
      "source": [
        "<a href=\"https://colab.research.google.com/github/computablee/DS-5899-CS-5260-Final-Project/blob/main/CNN.ipynb\" target=\"_parent\"><img src=\"https://colab.research.google.com/assets/colab-badge.svg\" alt=\"Open In Colab\"/></a>"
      ]
    },
    {
      "cell_type": "code",
      "execution_count": 1,
      "metadata": {
        "id": "k36kKiokcA_R"
      },
      "outputs": [],
      "source": [
        "import numpy as np\n",
        "import numpy.random as R\n",
        "import matplotlib.pyplot as plt\n",
        "from tensorflow.keras.datasets import mnist\n",
        "from tensorflow.keras import models, layers\n",
        "from tensorflow.keras.utils import to_categorical\n",
        "import tensorflow as tf\n",
        "\n",
        "(train_images, train_labels), (test_images, test_labels) = mnist.load_data()"
      ]
    },
    {
      "cell_type": "code",
      "source": [
        "train_images = train_images.astype('float32') / 255\n",
        "test_images = test_images.astype('float32') / 255\n",
        "\n",
        "sz = train_images.shape[1]\n",
        "nclassout = 10\n",
        "\n",
        "train_labels_onehot = to_categorical(train_labels)\n",
        "test_labels_onehot = to_categorical(test_labels)"
      ],
      "metadata": {
        "id": "OOFkjGdQc_ML"
      },
      "execution_count": 2,
      "outputs": []
    },
    {
      "cell_type": "code",
      "source": [
        "def relu_bn(inputs):\n",
        "    relu = layers.ReLU()(inputs)\n",
        "    bn = layers.BatchNormalization()(relu)\n",
        "    return bn"
      ],
      "metadata": {
        "id": "kJICqGKauwB-"
      },
      "execution_count": 3,
      "outputs": []
    },
    {
      "cell_type": "code",
      "source": [
        "def residual_block(x, downsample, filters, kernel_size = 3):\n",
        "    y = layers.Conv2D(kernel_size=kernel_size,\n",
        "               strides=(1 if not downsample else 2),\n",
        "               filters=filters,\n",
        "               padding=\"same\")(x)\n",
        "    y = relu_bn(y)\n",
        "    y = layers.Conv2D(kernel_size=kernel_size,\n",
        "               strides=1,\n",
        "               filters=filters,\n",
        "               padding=\"same\")(y)\n",
        "\n",
        "    if downsample:\n",
        "        x = layers.Conv2D(kernel_size=1,\n",
        "                   strides=2,\n",
        "                   filters=filters,\n",
        "                   padding=\"same\")(x)\n",
        "\n",
        "    out = layers.Add()([x, y])\n",
        "    out = relu_bn(out)\n",
        "    return out"
      ],
      "metadata": {
        "id": "a4mwLXRYu--D"
      },
      "execution_count": 4,
      "outputs": []
    },
    {
      "cell_type": "code",
      "source": [
        "def create_res_net():\n",
        "    inputs = layers.Input(shape=(sz, sz, 1))\n",
        "    resize = layers.Resizing(224, 224)(inputs)\n",
        "    num_filters = 16\n",
        "    kernel_size = 26\n",
        "    \n",
        "    t = layers.BatchNormalization()(resize)\n",
        "    t = layers.Conv2D(kernel_size=kernel_size,\n",
        "               strides=1,\n",
        "               filters=num_filters,\n",
        "               padding=\"same\")(t)\n",
        "    t = relu_bn(t)\n",
        "    \n",
        "    num_blocks_list = [3, 2, 1]\n",
        "    for i in range(len(num_blocks_list)):\n",
        "        num_blocks = num_blocks_list[i]\n",
        "        for j in range(num_blocks):\n",
        "            t = residual_block(t, kernel_size=kernel_size, downsample=(j==0 and i!=0), filters=num_filters)\n",
        "        num_filters *= 2\n",
        "        kernel_size = int(np.floor(kernel_size / 2))\n",
        "    \n",
        "    t = layers.AveragePooling2D(4)(t)\n",
        "    t = layers.Flatten()(t)\n",
        "    outputs = layers.Dense(10, activation='softmax')(t)\n",
        "    \n",
        "    model = models.Model(inputs, outputs)\n",
        "\n",
        "    model.compile(\n",
        "        optimizer='adam',\n",
        "        loss='categorical_crossentropy',\n",
        "        metrics=['accuracy']\n",
        "    )\n",
        "\n",
        "    return model\n",
        "\n",
        "convnet = create_res_net()\n",
        "convepochs = 10"
      ],
      "metadata": {
        "id": "xLw6ZcX5vMrT"
      },
      "execution_count": 11,
      "outputs": []
    },
    {
      "cell_type": "code",
      "source": [
        "history = convnet.fit(train_images, train_labels_onehot, verbose=True, validation_split=.1, epochs=convepochs, batch_size=256)"
      ],
      "metadata": {
        "colab": {
          "base_uri": "https://localhost:8080/"
        },
        "id": "TyMCew5TfdjJ",
        "outputId": "c413ddc8-98ba-4f56-a869-9b54f53ed8e0"
      },
      "execution_count": 13,
      "outputs": [
        {
          "output_type": "stream",
          "name": "stdout",
          "text": [
            "Epoch 1/10\n",
            "211/211 [==============================] - 222s 982ms/step - loss: 0.2364 - accuracy: 0.9274 - val_loss: 2.8214 - val_accuracy: 0.6935\n",
            "Epoch 2/10\n",
            "211/211 [==============================] - 170s 804ms/step - loss: 0.0734 - accuracy: 0.9787 - val_loss: 0.1032 - val_accuracy: 0.9790\n",
            "Epoch 3/10\n",
            "211/211 [==============================] - 170s 805ms/step - loss: 0.0597 - accuracy: 0.9835 - val_loss: 0.1026 - val_accuracy: 0.9783\n",
            "Epoch 4/10\n",
            "211/211 [==============================] - 170s 805ms/step - loss: 0.0514 - accuracy: 0.9863 - val_loss: 0.0834 - val_accuracy: 0.9805\n",
            "Epoch 5/10\n",
            "211/211 [==============================] - 170s 805ms/step - loss: 0.0475 - accuracy: 0.9866 - val_loss: 0.1084 - val_accuracy: 0.9777\n",
            "Epoch 6/10\n",
            "211/211 [==============================] - 170s 805ms/step - loss: 0.0416 - accuracy: 0.9881 - val_loss: 0.0892 - val_accuracy: 0.9817\n",
            "Epoch 7/10\n",
            "211/211 [==============================] - 170s 805ms/step - loss: 0.0349 - accuracy: 0.9899 - val_loss: 0.0680 - val_accuracy: 0.9857\n",
            "Epoch 8/10\n",
            "211/211 [==============================] - 170s 805ms/step - loss: 0.0301 - accuracy: 0.9909 - val_loss: 0.0667 - val_accuracy: 0.9873\n",
            "Epoch 9/10\n",
            "211/211 [==============================] - 170s 805ms/step - loss: 0.0230 - accuracy: 0.9932 - val_loss: 0.1060 - val_accuracy: 0.9752\n",
            "Epoch 10/10\n",
            "211/211 [==============================] - 170s 805ms/step - loss: 0.0237 - accuracy: 0.9925 - val_loss: 0.0760 - val_accuracy: 0.9880\n"
          ]
        }
      ]
    },
    {
      "cell_type": "code",
      "source": [
        "def plot_loss(epochs, loss, val_loss):\n",
        "    ep_titles = list(range(1, epochs + 1))\n",
        "    ep_ticks = list(range(1, epochs + 1))\n",
        "    \n",
        "    plt.plot(ep_titles, loss, label=\"loss\")\n",
        "    plt.plot(ep_titles, val_loss, label=\"val_loss\")\n",
        "    plt.legend()\n",
        "    plt.xlabel(\"Epoch\")\n",
        "    plt.ylabel(\"Loss\")\n",
        "    plt.suptitle(\"Loss as a Function of Epoch\")\n",
        "    plt.xticks(ep_ticks)\n",
        "    plt.show()\n",
        "    "
      ],
      "metadata": {
        "id": "08j3r2qyi-g2"
      },
      "execution_count": 15,
      "outputs": []
    },
    {
      "cell_type": "code",
      "source": [
        "plot_loss(convepochs, history.history['loss'], history.history['val_loss'])\n",
        "\n",
        "evaluation = convnet.evaluate(test_images, test_labels_onehot)\n",
        "print(\"Accuracy: \", str(evaluation[1]))\n"
      ],
      "metadata": {
        "colab": {
          "base_uri": "https://localhost:8080/",
          "height": 343
        },
        "id": "wLXVySbYi44A",
        "outputId": "4658dc15-e9e7-467d-d86a-b875b79bfb75"
      },
      "execution_count": 16,
      "outputs": [
        {
          "output_type": "display_data",
          "data": {
            "text/plain": [
              "<Figure size 432x288 with 1 Axes>"
            ],
            "image/png": "[encoded data removed]"
          },
          "metadata": {
            "needs_background": "light"
          }
        },
        {
          "output_type": "stream",
          "name": "stdout",
          "text": [
            "313/313 [==============================] - 11s 30ms/step - loss: 0.0588 - accuracy: 0.9864\n",
            "Accuracy:  0.9864000082015991\n"
          ]
        }
      ]
    },
    {
      "cell_type": "code",
      "source": [
        "convnet.save('./mnist_convnet.hdf5')"
      ],
      "metadata": {
        "id": "FhWSNJ11kOrz"
      },
      "execution_count": 18,
      "outputs": []
    },
    {
      "cell_type": "code",
      "source": [
        "from keras.utils.layer_utils import count_params\n",
        "\n",
        "trainable_count = count_params(convnet.trainable_weights)\n",
        "non_trainable_count = count_params(convnet.non_trainable_weights)\n",
        "\n",
        "print('Total params: {:,}'.format(trainable_count + non_trainable_count))\n",
        "print('Trainable params: {:,}'.format(trainable_count))\n",
        "print('Non-trainable params: {:,}'.format(non_trainable_count))"
      ],
      "metadata": {
        "colab": {
          "base_uri": "https://localhost:8080/"
        },
        "id": "9-SJuY3H23dS",
        "outputId": "2469158d-7086-480e-9a71-bb139b5e609f"
      },
      "execution_count": 17,
      "outputs": [
        {
          "output_type": "stream",
          "name": "stdout",
          "text": [
            "Total params: 2,005,982\n",
            "Trainable params: 2,005,244\n",
            "Non-trainable params: 738\n"
          ]
        }
      ]
    }
  ]
}