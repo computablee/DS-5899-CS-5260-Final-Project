{
  "nbformat": 4,
  "nbformat_minor": 0,
  "metadata": {
    "colab": {
      "provenance": [],
      "authorship_tag": "ABX9TyMB/bPNaEV3f1XAMnBm5YMc",
      "include_colab_link": true
    },
    "kernelspec": {
      "name": "python3",
      "display_name": "Python 3"
    },
    "language_info": {
      "name": "python"
    },
    "accelerator": "GPU",
    "gpuClass": "premium"
  },
  "cells": [
    {
      "cell_type": "markdown",
      "metadata": {
        "id": "view-in-github",
        "colab_type": "text"
      },
      "source": [
        "<a href=\"https://colab.research.google.com/github/computablee/DS-5899-CS-5260-Final-Project/blob/main/CNN.ipynb\" target=\"_parent\"><img src=\"https://colab.research.google.com/assets/colab-badge.svg\" alt=\"Open In Colab\"/></a>"
      ]
    },
    {
      "cell_type": "code",
      "execution_count": 2,
      "metadata": {
        "id": "k36kKiokcA_R",
        "colab": {
          "base_uri": "https://localhost:8080/"
        },
        "outputId": "2234d678-783e-4d4d-fadf-b337fd73b3e2"
      },
      "outputs": [
        {
          "output_type": "stream",
          "name": "stdout",
          "text": [
            "Downloading data from https://storage.googleapis.com/tensorflow/tf-keras-datasets/mnist.npz\n",
            "11490434/11490434 [==============================] - 0s 0us/step\n"
          ]
        }
      ],
      "source": [
        "import numpy as np\n",
        "import numpy.random as R\n",
        "import matplotlib.pyplot as plt\n",
        "from tensorflow.keras.datasets import mnist\n",
        "from tensorflow.keras import models, layers\n",
        "from tensorflow.keras.utils import to_categorical\n",
        "import tensorflow as tf\n",
        "\n",
        "(train_images, train_labels), (test_images, test_labels) = mnist.load_data()"
      ]
    },
    {
      "cell_type": "code",
      "source": [
        "train_images = train_images.astype('float32') / 255\n",
        "test_images = test_images.astype('float32') / 255\n",
        "\n",
        "sz = train_images.shape[1]\n",
        "nclassout = 10\n",
        "\n",
        "train_labels_onehot = to_categorical(train_labels)\n",
        "test_labels_onehot = to_categorical(test_labels)"
      ],
      "metadata": {
        "id": "OOFkjGdQc_ML"
      },
      "execution_count": 3,
      "outputs": []
    },
    {
      "cell_type": "code",
      "source": [
        "def relu_bn(inputs):\n",
        "    relu = layers.ReLU()(inputs)\n",
        "    bn = layers.BatchNormalization()(relu)\n",
        "    return bn"
      ],
      "metadata": {
        "id": "kJICqGKauwB-"
      },
      "execution_count": 4,
      "outputs": []
    },
    {
      "cell_type": "code",
      "source": [
        "def residual_block(x, downsample, filters, kernel_size = 3):\n",
        "    y = layers.Conv2D(kernel_size=kernel_size,\n",
        "               strides=(1 if not downsample else 2),\n",
        "               filters=filters,\n",
        "               padding=\"same\")(x)\n",
        "    y = relu_bn(y)\n",
        "    y = layers.Conv2D(kernel_size=kernel_size,\n",
        "               strides=1,\n",
        "               filters=filters,\n",
        "               padding=\"same\")(y)\n",
        "\n",
        "    if downsample:\n",
        "        x = layers.Conv2D(kernel_size=1,\n",
        "                   strides=2,\n",
        "                   filters=filters,\n",
        "                   padding=\"same\")(x)\n",
        "\n",
        "    out = layers.Add()([x, y])\n",
        "    out = relu_bn(out)\n",
        "    return out"
      ],
      "metadata": {
        "id": "a4mwLXRYu--D"
      },
      "execution_count": 5,
      "outputs": []
    },
    {
      "cell_type": "code",
      "source": [
        "def create_res_net():\n",
        "    inputs = layers.Input(shape=(sz, sz, 1))\n",
        "    resize = layers.Resizing(224, 224)(inputs)\n",
        "    num_filters = 16\n",
        "    kernel_size = 26\n",
        "    \n",
        "    t = layers.BatchNormalization()(resize)\n",
        "    t = layers.Conv2D(kernel_size=kernel_size,\n",
        "               strides=1,\n",
        "               filters=num_filters,\n",
        "               padding=\"same\")(t)\n",
        "    t = relu_bn(t)\n",
        "    \n",
        "    num_blocks_list = [4, 2, 1]\n",
        "    for i in range(len(num_blocks_list)):\n",
        "        num_blocks = num_blocks_list[i]\n",
        "        for j in range(num_blocks):\n",
        "            t = residual_block(t, kernel_size=kernel_size, downsample=(j==0 and i!=0), filters=num_filters)\n",
        "        num_filters *= 2\n",
        "        kernel_size = int(np.floor(kernel_size / 2))\n",
        "    \n",
        "    t = layers.AveragePooling2D(4)(t)\n",
        "    t = layers.Flatten()(t)\n",
        "    outputs = layers.Dense(10, activation='softmax')(t)\n",
        "    \n",
        "    model = models.Model(inputs, outputs)\n",
        "\n",
        "    model.compile(\n",
        "        optimizer='adam',\n",
        "        loss='categorical_crossentropy',\n",
        "        metrics=['accuracy']\n",
        "    )\n",
        "\n",
        "    return model\n",
        "\n",
        "convnet = create_res_net()\n",
        "convepochs = 10"
      ],
      "metadata": {
        "id": "xLw6ZcX5vMrT"
      },
      "execution_count": 15,
      "outputs": []
    },
    {
      "cell_type": "code",
      "source": [
        "history = convnet.fit(train_images, train_labels_onehot, verbose=True, validation_split=.1, epochs=convepochs, batch_size=256)"
      ],
      "metadata": {
        "colab": {
          "base_uri": "https://localhost:8080/"
        },
        "id": "TyMCew5TfdjJ",
        "outputId": "e154bd2e-f1e5-4c08-9dfa-fea2a3800ba0"
      },
      "execution_count": 16,
      "outputs": [
        {
          "output_type": "stream",
          "name": "stdout",
          "text": [
            "Epoch 1/10\n",
            "211/211 [==============================] - 214s 971ms/step - loss: 0.2208 - accuracy: 0.9317 - val_loss: 8.0061 - val_accuracy: 0.5038\n",
            "Epoch 2/10\n",
            "211/211 [==============================] - 204s 969ms/step - loss: 0.0860 - accuracy: 0.9760 - val_loss: 0.5768 - val_accuracy: 0.9268\n",
            "Epoch 3/10\n",
            "211/211 [==============================] - 204s 969ms/step - loss: 0.0686 - accuracy: 0.9807 - val_loss: 0.0914 - val_accuracy: 0.9822\n",
            "Epoch 4/10\n",
            "211/211 [==============================] - 204s 969ms/step - loss: 0.0672 - accuracy: 0.9821 - val_loss: 0.0751 - val_accuracy: 0.9838\n",
            "Epoch 5/10\n",
            "211/211 [==============================] - 204s 969ms/step - loss: 0.0561 - accuracy: 0.9849 - val_loss: 1.5740 - val_accuracy: 0.8418\n",
            "Epoch 6/10\n",
            "211/211 [==============================] - 204s 969ms/step - loss: 0.0464 - accuracy: 0.9872 - val_loss: 0.0717 - val_accuracy: 0.9857\n",
            "Epoch 7/10\n",
            "211/211 [==============================] - 204s 969ms/step - loss: 0.0394 - accuracy: 0.9888 - val_loss: 0.1380 - val_accuracy: 0.9747\n",
            "Epoch 8/10\n",
            "211/211 [==============================] - 204s 969ms/step - loss: 0.0347 - accuracy: 0.9899 - val_loss: 0.0545 - val_accuracy: 0.9875\n",
            "Epoch 9/10\n",
            "211/211 [==============================] - 204s 969ms/step - loss: 0.0303 - accuracy: 0.9906 - val_loss: 0.0680 - val_accuracy: 0.9848\n",
            "Epoch 10/10\n",
            "211/211 [==============================] - 204s 969ms/step - loss: 0.0262 - accuracy: 0.9921 - val_loss: 0.0559 - val_accuracy: 0.9892\n"
          ]
        }
      ]
    },
    {
      "cell_type": "code",
      "source": [
        "def plot_loss(epochs, loss, val_loss):\n",
        "    ep_titles = list(range(1, epochs + 1))\n",
        "    ep_ticks = list(range(1, epochs + 1))\n",
        "    \n",
        "    plt.plot(ep_titles, loss, label=\"loss\")\n",
        "    plt.plot(ep_titles, val_loss, label=\"val_loss\")\n",
        "    plt.legend()\n",
        "    plt.xlabel(\"Epoch\")\n",
        "    plt.ylabel(\"Loss\")\n",
        "    plt.suptitle(\"Loss as a Function of Epoch\")\n",
        "    plt.xticks(ep_ticks)\n",
        "    plt.show()\n",
        "    "
      ],
      "metadata": {
        "id": "08j3r2qyi-g2"
      },
      "execution_count": 10,
      "outputs": []
    },
    {
      "cell_type": "code",
      "source": [
        "plot_loss(convepochs, history.history['loss'], history.history['val_loss'])\n",
        "\n",
        "evaluation = convnet.evaluate(test_images, test_labels_onehot)\n",
        "print(\"Accuracy: \", str(evaluation[1]))\n"
      ],
      "metadata": {
        "colab": {
          "base_uri": "https://localhost:8080/",
          "height": 343
        },
        "id": "wLXVySbYi44A",
        "outputId": "6189ba75-c1e6-49c0-9d24-077a44399132"
      },
      "execution_count": 17,
      "outputs": [
        {
          "output_type": "display_data",
          "data": {
            "text/plain": [
              "<Figure size 432x288 with 1 Axes>"
            ],
            "image/png": "[encoded data removed]"
          },
          "metadata": {
            "needs_background": "light"
          }
        },
        {
          "output_type": "stream",
          "name": "stdout",
          "text": [
            "313/313 [==============================] - 10s 32ms/step - loss: 0.0473 - accuracy: 0.9893\n",
            "Accuracy:  0.989300012588501\n"
          ]
        }
      ]
    },
    {
      "cell_type": "code",
      "source": [
        "convnet.save('./mnist_convnet.hdf5')"
      ],
      "metadata": {
        "id": "FhWSNJ11kOrz"
      },
      "execution_count": 20,
      "outputs": []
    },
    {
      "cell_type": "code",
      "source": [
        "from keras.utils.layer_utils import count_params\n",
        "\n",
        "trainable_count = count_params(convnet.trainable_weights)\n",
        "non_trainable_count = count_params(convnet.non_trainable_weights)\n",
        "\n",
        "print('Total params: {:,}'.format(trainable_count + non_trainable_count))\n",
        "print('Trainable params: {:,}'.format(trainable_count))\n",
        "print('Non-trainable params: {:,}'.format(non_trainable_count))"
      ],
      "metadata": {
        "colab": {
          "base_uri": "https://localhost:8080/"
        },
        "id": "9-SJuY3H23dS",
        "outputId": "77e6a80a-183b-4880-8dcd-7a612ae31906"
      },
      "execution_count": 18,
      "outputs": [
        {
          "output_type": "stream",
          "name": "stdout",
          "text": [
            "Total params: 2,352,254\n",
            "Trainable params: 2,351,452\n",
            "Non-trainable params: 802\n"
          ]
        }
      ]
    }
  ]
}