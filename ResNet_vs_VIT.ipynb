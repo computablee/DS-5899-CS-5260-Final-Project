{
  "nbformat": 4,
  "nbformat_minor": 0,
  "metadata": {
    "colab": {
      "provenance": [],
      "machine_shape": "hm",
      "authorship_tag": "ABX9TyPEb4j+cqOnQpOHzpWkZg8c",
      "include_colab_link": true
    },
    "kernelspec": {
      "name": "python3",
      "display_name": "Python 3"
    },
    "language_info": {
      "name": "python"
    },
    "accelerator": "GPU",
    "gpuClass": "standard"
  },
  "cells": [
    {
      "cell_type": "markdown",
      "metadata": {
        "id": "view-in-github",
        "colab_type": "text"
      },
      "source": [
        "<a href=\"https://colab.research.google.com/github/computablee/DS-5899-CS-5260-Final-Project/blob/main/ResNet_vs_VIT.ipynb\" target=\"_parent\"><img src=\"https://colab.research.google.com/assets/colab-badge.svg\" alt=\"Open In Colab\"/></a>"
      ]
    },
    {
      "cell_type": "code",
      "execution_count": 1,
      "metadata": {
        "colab": {
          "base_uri": "https://localhost:8080/"
        },
        "id": "tI5lrGoJ-Tbv",
        "outputId": "862e6bdb-8c72-42e8-8e90-a45212814e90"
      },
      "outputs": [
        {
          "output_type": "stream",
          "name": "stdout",
          "text": [
            "Looking in indexes: https://pypi.org/simple, https://us-python.pkg.dev/colab-wheels/public/simple/\n",
            "Requirement already satisfied: transformers in /usr/local/lib/python3.9/dist-packages (4.26.1)\n",
            "Requirement already satisfied: datasets in /usr/local/lib/python3.9/dist-packages (2.10.1)\n",
            "Requirement already satisfied: filelock in /usr/local/lib/python3.9/dist-packages (from transformers) (3.9.0)\n",
            "Requirement already satisfied: tokenizers!=0.11.3,<0.14,>=0.11.1 in /usr/local/lib/python3.9/dist-packages (from transformers) (0.13.2)\n",
            "Requirement already satisfied: tqdm>=4.27 in /usr/local/lib/python3.9/dist-packages (from transformers) (4.65.0)\n",
            "Requirement already satisfied: requests in /usr/local/lib/python3.9/dist-packages (from transformers) (2.25.1)\n",
            "Requirement already satisfied: huggingface-hub<1.0,>=0.11.0 in /usr/local/lib/python3.9/dist-packages (from transformers) (0.13.1)\n",
            "Requirement already satisfied: numpy>=1.17 in /usr/local/lib/python3.9/dist-packages (from transformers) (1.22.4)\n",
            "Requirement already satisfied: packaging>=20.0 in /usr/local/lib/python3.9/dist-packages (from transformers) (23.0)\n",
            "Requirement already satisfied: pyyaml>=5.1 in /usr/local/lib/python3.9/dist-packages (from transformers) (6.0)\n",
            "Requirement already satisfied: regex!=2019.12.17 in /usr/local/lib/python3.9/dist-packages (from transformers) (2022.6.2)\n",
            "Requirement already satisfied: fsspec[http]>=2021.11.1 in /usr/local/lib/python3.9/dist-packages (from datasets) (2023.3.0)\n",
            "Requirement already satisfied: responses<0.19 in /usr/local/lib/python3.9/dist-packages (from datasets) (0.18.0)\n",
            "Requirement already satisfied: xxhash in /usr/local/lib/python3.9/dist-packages (from datasets) (3.2.0)\n",
            "Requirement already satisfied: dill<0.3.7,>=0.3.0 in /usr/local/lib/python3.9/dist-packages (from datasets) (0.3.6)\n",
            "Requirement already satisfied: pyarrow>=6.0.0 in /usr/local/lib/python3.9/dist-packages (from datasets) (9.0.0)\n",
            "Requirement already satisfied: multiprocess in /usr/local/lib/python3.9/dist-packages (from datasets) (0.70.14)\n",
            "Requirement already satisfied: pandas in /usr/local/lib/python3.9/dist-packages (from datasets) (1.3.5)\n",
            "Requirement already satisfied: aiohttp in /usr/local/lib/python3.9/dist-packages (from datasets) (3.8.4)\n",
            "Requirement already satisfied: aiosignal>=1.1.2 in /usr/local/lib/python3.9/dist-packages (from aiohttp->datasets) (1.3.1)\n",
            "Requirement already satisfied: frozenlist>=1.1.1 in /usr/local/lib/python3.9/dist-packages (from aiohttp->datasets) (1.3.3)\n",
            "Requirement already satisfied: attrs>=17.3.0 in /usr/local/lib/python3.9/dist-packages (from aiohttp->datasets) (22.2.0)\n",
            "Requirement already satisfied: yarl<2.0,>=1.0 in /usr/local/lib/python3.9/dist-packages (from aiohttp->datasets) (1.8.2)\n",
            "Requirement already satisfied: async-timeout<5.0,>=4.0.0a3 in /usr/local/lib/python3.9/dist-packages (from aiohttp->datasets) (4.0.2)\n",
            "Requirement already satisfied: charset-normalizer<4.0,>=2.0 in /usr/local/lib/python3.9/dist-packages (from aiohttp->datasets) (3.1.0)\n",
            "Requirement already satisfied: multidict<7.0,>=4.5 in /usr/local/lib/python3.9/dist-packages (from aiohttp->datasets) (6.0.4)\n",
            "Requirement already satisfied: typing-extensions>=3.7.4.3 in /usr/local/lib/python3.9/dist-packages (from huggingface-hub<1.0,>=0.11.0->transformers) (4.5.0)\n",
            "Requirement already satisfied: chardet<5,>=3.0.2 in /usr/local/lib/python3.9/dist-packages (from requests->transformers) (4.0.0)\n",
            "Requirement already satisfied: urllib3<1.27,>=1.21.1 in /usr/local/lib/python3.9/dist-packages (from requests->transformers) (1.26.14)\n",
            "Requirement already satisfied: idna<3,>=2.5 in /usr/local/lib/python3.9/dist-packages (from requests->transformers) (2.10)\n",
            "Requirement already satisfied: certifi>=2017.4.17 in /usr/local/lib/python3.9/dist-packages (from requests->transformers) (2022.12.7)\n",
            "Requirement already satisfied: pytz>=2017.3 in /usr/local/lib/python3.9/dist-packages (from pandas->datasets) (2022.7.1)\n",
            "Requirement already satisfied: python-dateutil>=2.7.3 in /usr/local/lib/python3.9/dist-packages (from pandas->datasets) (2.8.2)\n",
            "Requirement already satisfied: six>=1.5 in /usr/local/lib/python3.9/dist-packages (from python-dateutil>=2.7.3->pandas->datasets) (1.15.0)\n"
          ]
        }
      ],
      "source": [
        "!pip install transformers datasets\n",
        "\n",
        "import numpy as np\n",
        "import numpy.random as R\n",
        "import matplotlib.pyplot as plt\n",
        "import tensorflow as tf\n",
        "import torch\n",
        "from tensorflow.keras.datasets import mnist\n",
        "from tensorflow.keras.utils import to_categorical\n",
        "from keras.utils.data_utils import get_file\n",
        "from tensorflow.keras import models\n",
        "from transformers import AutoImageProcessor, AutoModelForImageClassification, pipeline\n",
        "from PIL import Image\n",
        "\n",
        "(_, _), (test_images, test_labels) = mnist.load_data()"
      ]
    },
    {
      "cell_type": "code",
      "execution_count": 2,
      "metadata": {
        "id": "k36kKiokcA_R"
      },
      "outputs": [],
      "source": [
        "test_images = test_images.astype('float32') / 255\n",
        "nclassout = 10\n",
        "test_labels_onehot = to_categorical(test_labels)\n",
        "\n",
        "vis_test_images = np.expand_dims(test_images, axis=-1)\n",
        "vis_test_images = np.repeat(vis_test_images, 3, axis=-1)\n",
        "vis_test_images = tf.image.resize(vis_test_images, [224,224]).numpy()"
      ]
    },
    {
      "cell_type": "code",
      "source": [
        "model_path = get_file('resnet_mnist_digits.hdf5', 'https://huggingface.co/lane99/resnet_mnist_digits/resolve/main/resnet_mnist_digits.hdf5')\n",
        "resnet = models.load_model(model_path)\n",
        "\n",
        "evaluation_conv = resnet.evaluate(test_images, test_labels_onehot)\n",
        "\n",
        "print(\"Residual Network Accuracy: \", str(evaluation_conv[1]))"
      ],
      "metadata": {
        "colab": {
          "base_uri": "https://localhost:8080/"
        },
        "id": "o0u4oDM9_WZO",
        "outputId": "6805ccda-ab12-48dc-ce44-fe702a91e687"
      },
      "execution_count": 3,
      "outputs": [
        {
          "output_type": "stream",
          "name": "stdout",
          "text": [
            "313/313 [==============================] - 14s 35ms/step - loss: 0.0244 - accuracy: 0.9945\n",
            "Residual Network Accuracy:  0.9944999814033508\n"
          ]
        }
      ]
    },
    {
      "cell_type": "code",
      "source": [
        "device = torch.device('cuda')\n",
        "\n",
        "image_processor = AutoImageProcessor.from_pretrained(\"farleyknight-org-username/vit-base-mnist\")\n",
        "model = AutoModelForImageClassification.from_pretrained(\"farleyknight-org-username/vit-base-mnist\")\n",
        "\n",
        "model.to(device)\n",
        "\n",
        "success = 0\n",
        "for i in range(len(vis_test_images)):\n",
        "  inputs = image_processor(vis_test_images[i], return_tensors=\"pt\")\n",
        "  inputs.to(device)\n",
        "  logits = model(**inputs).logits\n",
        "\n",
        "  predicted_label = logits.cpu().data.numpy().argmax()\n",
        "  if predicted_label == tf.math.argmax(test_labels_onehot[i]):\n",
        "    success += 1\n",
        "\n",
        "  if i > 0 and i % 1000 == 0:\n",
        "    print(\"Accuracy: \", str(success / (i + 1)), \", Progress: \", str(i / len(vis_test_images)))\n",
        "\n",
        "evaluation_vit = success / len(test_labels_onehot)\n",
        "\n",
        "print(\"Vision Transformer Accuracy: \", str(evaluation_vit))"
      ],
      "metadata": {
        "colab": {
          "base_uri": "https://localhost:8080/"
        },
        "id": "LQdia_NHTcUa",
        "outputId": "ebcf7957-9e2b-4fe1-c13c-49f4565dd7eb"
      },
      "execution_count": 4,
      "outputs": [
        {
          "output_type": "stream",
          "name": "stderr",
          "text": [
            "Could not find image processor class in the image processor config or the model config. Loading based on pattern matching with the model's feature extractor configuration.\n"
          ]
        },
        {
          "output_type": "stream",
          "name": "stdout",
          "text": [
            "Accuracy:  0.9820179820179821 , Progress:  0.1\n",
            "Accuracy:  0.9850074962518741 , Progress:  0.2\n",
            "Accuracy:  0.9863378873708764 , Progress:  0.3\n",
            "Accuracy:  0.9872531867033242 , Progress:  0.4\n",
            "Accuracy:  0.9882023595280944 , Progress:  0.5\n",
            "Accuracy:  0.9896683886018997 , Progress:  0.6\n",
            "Accuracy:  0.990001428367376 , Progress:  0.7\n",
            "Accuracy:  0.9911261092363455 , Progress:  0.8\n",
            "Accuracy:  0.9920008887901345 , Progress:  0.9\n",
            "Vision Transformer Accuracy:  0.9922\n"
          ]
        }
      ]
    },
    {
      "cell_type": "code",
      "source": [],
      "metadata": {
        "id": "nveVJEqOZ71_"
      },
      "execution_count": 4,
      "outputs": []
    }
  ]
}